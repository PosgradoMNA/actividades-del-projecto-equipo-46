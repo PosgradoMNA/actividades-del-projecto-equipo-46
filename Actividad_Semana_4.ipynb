{
  "nbformat": 4,
  "nbformat_minor": 0,
  "metadata": {
    "colab": {
      "provenance": [],
      "authorship_tag": "ABX9TyPdartDXxETiBqMLgy5hN9L",
      "include_colab_link": true
    },
    "kernelspec": {
      "name": "python3",
      "display_name": "Python 3"
    },
    "language_info": {
      "name": "python"
    }
  },
  "cells": [
    {
      "cell_type": "markdown",
      "metadata": {
        "id": "view-in-github",
        "colab_type": "text"
      },
      "source": [
        "<a href=\"https://colab.research.google.com/github/PosgradoMNA/actividades-del-projecto-equipo-46/blob/main/Actividad_Semana_4.ipynb\" target=\"_parent\"><img src=\"https://colab.research.google.com/assets/colab-badge.svg\" alt=\"Open In Colab\"/></a>"
      ]
    },
    {
      "cell_type": "markdown",
      "source": [
        "# Actividad 4\n",
        "## Reduccion de datos\n",
        "## Ciencia y analítica de datos\n",
        "### Profesor: Jobish Vallikavungal Devassia\n",
        "### Profesor Tutor: Roberto Antonio Guevara González\n",
        "#### Bernardo Mijangos Flores\n",
        "#### Matricula A01793654"
      ],
      "metadata": {
        "id": "f88mpwTsSR7f"
      }
    },
    {
      "cell_type": "markdown",
      "source": [
        "# Paso 1"
      ],
      "metadata": {
        "id": "3UdTjWb3SsXj"
      }
    },
    {
      "cell_type": "markdown",
      "source": [
        "# Información de los datos\n",
        "\n",
        "#### Esta investigación apuntó al caso de los pagos predeterminados de los clientes en Taiwán y compara la precisión predictiva de la probabilidad de incumplimiento entre seis métodos de minería de datos. \n",
        "\n",
        "#### Esta investigación empleó una variable binaria, pago por defecto (Sí = 1, No = 0), como variable de respuesta. Este estudio revisó la literatura y utilizó las siguientes 23 variables como variables explicativas:\n",
        "\n",
        "#### X1: Monto del crédito otorgado (dólar NT): incluye tanto el crédito de consumo individual como su crédito familiar (complementario).\n",
        "#### X2: Género (1 = masculino; 2 = femenino).\n",
        "#### X3: Educación (1 = posgrado; 2 = universidad; 3 = secundaria; 4 = otros).\n",
        "#### X4: Estado civil (1 = casado; 2 = soltero; 3 = otros).\n",
        "#### X5: Edad (año).\n",
        "#### X6 - X11: Historial de pagos pasados. Hicimos un seguimiento de los registros de pagos mensuales pasados ​​(de abril a septiembre de 2005) de la siguiente manera: X6 = el estado de pago en septiembre de 2005; X7 = el estado de pago en agosto de 2005; . . .;X11 = estado de amortización en abril de 2005. La escala de medición del estado de amortización es: -1 = pagar debidamente; 1 = retraso en el pago de un mes; 2 = retraso en el pago de dos meses; . . .; 8 = retraso en el pago de ocho meses; 9 = retraso en el pago de nueve meses o más.\n",
        "#### X12-X17: Importe del estado de cuenta (dólar NT). X12 = monto del estado de cuenta en septiembre de 2005; X13 = monto del estado de cuenta en agosto de 2005; . . .; X17 = monto del estado de cuenta en abril de 2005.\n",
        "#### X18-X23: Monto del pago anterior (dólar NT). X18 = monto pagado en septiembre de 2005; X19 = monto pagado en agosto de 2005; . . .;X23 = monto pagado en abril de 2005."
      ],
      "metadata": {
        "id": "Jv_5dBsKeHua"
      }
    },
    {
      "cell_type": "code",
      "execution_count": 211,
      "metadata": {
        "id": "QJphhhJ0RquA"
      },
      "outputs": [],
      "source": [
        "# Importamos las librerias\n",
        "import pandas as pd\n",
        "import numpy as np\n",
        "import matplotlib.pyplot as plt \n",
        "import seaborn as sns\n",
        "\n",
        "from sklearn import preprocessing\n",
        "from sklearn.decomposition import PCA"
      ]
    },
    {
      "cell_type": "code",
      "source": [
        "# obtenemos la ruta de la informacion \n",
        "\n",
        "inPath = 'https://raw.githubusercontent.com/PosgradoMNA/Actividades_Aprendizaje-/main/default%20of%20credit%20card%20clients.csv'"
      ],
      "metadata": {
        "id": "XKJ1ejQ_TJjG"
      },
      "execution_count": 3,
      "outputs": []
    },
    {
      "cell_type": "code",
      "source": [
        "# generamos el dataframe\n",
        "\n",
        "df = pd.read_csv(inPath, index_col = 0)\n",
        "df.index.name = None\n",
        "df.head()"
      ],
      "metadata": {
        "colab": {
          "base_uri": "https://localhost:8080/",
          "height": 235
        },
        "id": "xAzI5-7bTPFA",
        "outputId": "d76a393c-7b85-4474-b97c-0cfd025d9fe5"
      },
      "execution_count": 169,
      "outputs": [
        {
          "output_type": "execute_result",
          "data": {
            "text/plain": [
              "       X1   X2   X3   X4    X5   X6   X7   X8   X9  X10  ...      X15  \\\n",
              "1   20000  2.0  2.0  1.0  24.0  2.0  2.0 -1.0 -1.0 -2.0  ...      0.0   \n",
              "2  120000  2.0  2.0  2.0  26.0 -1.0  2.0  0.0  0.0  0.0  ...   3272.0   \n",
              "3   90000  2.0  2.0  2.0  34.0  0.0  0.0  0.0  0.0  0.0  ...  14331.0   \n",
              "4   50000  2.0  2.0  1.0  37.0  0.0  0.0  0.0  0.0  0.0  ...  28314.0   \n",
              "5   50000  1.0  2.0  1.0  57.0 -1.0  0.0 -1.0  0.0  0.0  ...  20940.0   \n",
              "\n",
              "       X16      X17     X18      X19      X20     X21     X22     X23    Y  \n",
              "1      0.0      0.0     0.0    689.0      0.0     0.0     0.0     0.0  1.0  \n",
              "2   3455.0   3261.0     0.0   1000.0   1000.0  1000.0     0.0  2000.0  1.0  \n",
              "3  14948.0  15549.0  1518.0   1500.0   1000.0  1000.0  1000.0  5000.0  0.0  \n",
              "4  28959.0  29547.0  2000.0   2019.0   1200.0  1100.0  1069.0  1000.0  0.0  \n",
              "5  19146.0  19131.0  2000.0  36681.0  10000.0  9000.0   689.0   679.0  0.0  \n",
              "\n",
              "[5 rows x 24 columns]"
            ],
            "text/html": [
              "\n",
              "  <div id=\"df-fb84783f-4c00-44e3-8376-b5190525b56d\">\n",
              "    <div class=\"colab-df-container\">\n",
              "      <div>\n",
              "<style scoped>\n",
              "    .dataframe tbody tr th:only-of-type {\n",
              "        vertical-align: middle;\n",
              "    }\n",
              "\n",
              "    .dataframe tbody tr th {\n",
              "        vertical-align: top;\n",
              "    }\n",
              "\n",
              "    .dataframe thead th {\n",
              "        text-align: right;\n",
              "    }\n",
              "</style>\n",
              "<table border=\"1\" class=\"dataframe\">\n",
              "  <thead>\n",
              "    <tr style=\"text-align: right;\">\n",
              "      <th></th>\n",
              "      <th>X1</th>\n",
              "      <th>X2</th>\n",
              "      <th>X3</th>\n",
              "      <th>X4</th>\n",
              "      <th>X5</th>\n",
              "      <th>X6</th>\n",
              "      <th>X7</th>\n",
              "      <th>X8</th>\n",
              "      <th>X9</th>\n",
              "      <th>X10</th>\n",
              "      <th>...</th>\n",
              "      <th>X15</th>\n",
              "      <th>X16</th>\n",
              "      <th>X17</th>\n",
              "      <th>X18</th>\n",
              "      <th>X19</th>\n",
              "      <th>X20</th>\n",
              "      <th>X21</th>\n",
              "      <th>X22</th>\n",
              "      <th>X23</th>\n",
              "      <th>Y</th>\n",
              "    </tr>\n",
              "  </thead>\n",
              "  <tbody>\n",
              "    <tr>\n",
              "      <th>1</th>\n",
              "      <td>20000</td>\n",
              "      <td>2.0</td>\n",
              "      <td>2.0</td>\n",
              "      <td>1.0</td>\n",
              "      <td>24.0</td>\n",
              "      <td>2.0</td>\n",
              "      <td>2.0</td>\n",
              "      <td>-1.0</td>\n",
              "      <td>-1.0</td>\n",
              "      <td>-2.0</td>\n",
              "      <td>...</td>\n",
              "      <td>0.0</td>\n",
              "      <td>0.0</td>\n",
              "      <td>0.0</td>\n",
              "      <td>0.0</td>\n",
              "      <td>689.0</td>\n",
              "      <td>0.0</td>\n",
              "      <td>0.0</td>\n",
              "      <td>0.0</td>\n",
              "      <td>0.0</td>\n",
              "      <td>1.0</td>\n",
              "    </tr>\n",
              "    <tr>\n",
              "      <th>2</th>\n",
              "      <td>120000</td>\n",
              "      <td>2.0</td>\n",
              "      <td>2.0</td>\n",
              "      <td>2.0</td>\n",
              "      <td>26.0</td>\n",
              "      <td>-1.0</td>\n",
              "      <td>2.0</td>\n",
              "      <td>0.0</td>\n",
              "      <td>0.0</td>\n",
              "      <td>0.0</td>\n",
              "      <td>...</td>\n",
              "      <td>3272.0</td>\n",
              "      <td>3455.0</td>\n",
              "      <td>3261.0</td>\n",
              "      <td>0.0</td>\n",
              "      <td>1000.0</td>\n",
              "      <td>1000.0</td>\n",
              "      <td>1000.0</td>\n",
              "      <td>0.0</td>\n",
              "      <td>2000.0</td>\n",
              "      <td>1.0</td>\n",
              "    </tr>\n",
              "    <tr>\n",
              "      <th>3</th>\n",
              "      <td>90000</td>\n",
              "      <td>2.0</td>\n",
              "      <td>2.0</td>\n",
              "      <td>2.0</td>\n",
              "      <td>34.0</td>\n",
              "      <td>0.0</td>\n",
              "      <td>0.0</td>\n",
              "      <td>0.0</td>\n",
              "      <td>0.0</td>\n",
              "      <td>0.0</td>\n",
              "      <td>...</td>\n",
              "      <td>14331.0</td>\n",
              "      <td>14948.0</td>\n",
              "      <td>15549.0</td>\n",
              "      <td>1518.0</td>\n",
              "      <td>1500.0</td>\n",
              "      <td>1000.0</td>\n",
              "      <td>1000.0</td>\n",
              "      <td>1000.0</td>\n",
              "      <td>5000.0</td>\n",
              "      <td>0.0</td>\n",
              "    </tr>\n",
              "    <tr>\n",
              "      <th>4</th>\n",
              "      <td>50000</td>\n",
              "      <td>2.0</td>\n",
              "      <td>2.0</td>\n",
              "      <td>1.0</td>\n",
              "      <td>37.0</td>\n",
              "      <td>0.0</td>\n",
              "      <td>0.0</td>\n",
              "      <td>0.0</td>\n",
              "      <td>0.0</td>\n",
              "      <td>0.0</td>\n",
              "      <td>...</td>\n",
              "      <td>28314.0</td>\n",
              "      <td>28959.0</td>\n",
              "      <td>29547.0</td>\n",
              "      <td>2000.0</td>\n",
              "      <td>2019.0</td>\n",
              "      <td>1200.0</td>\n",
              "      <td>1100.0</td>\n",
              "      <td>1069.0</td>\n",
              "      <td>1000.0</td>\n",
              "      <td>0.0</td>\n",
              "    </tr>\n",
              "    <tr>\n",
              "      <th>5</th>\n",
              "      <td>50000</td>\n",
              "      <td>1.0</td>\n",
              "      <td>2.0</td>\n",
              "      <td>1.0</td>\n",
              "      <td>57.0</td>\n",
              "      <td>-1.0</td>\n",
              "      <td>0.0</td>\n",
              "      <td>-1.0</td>\n",
              "      <td>0.0</td>\n",
              "      <td>0.0</td>\n",
              "      <td>...</td>\n",
              "      <td>20940.0</td>\n",
              "      <td>19146.0</td>\n",
              "      <td>19131.0</td>\n",
              "      <td>2000.0</td>\n",
              "      <td>36681.0</td>\n",
              "      <td>10000.0</td>\n",
              "      <td>9000.0</td>\n",
              "      <td>689.0</td>\n",
              "      <td>679.0</td>\n",
              "      <td>0.0</td>\n",
              "    </tr>\n",
              "  </tbody>\n",
              "</table>\n",
              "<p>5 rows × 24 columns</p>\n",
              "</div>\n",
              "      <button class=\"colab-df-convert\" onclick=\"convertToInteractive('df-fb84783f-4c00-44e3-8376-b5190525b56d')\"\n",
              "              title=\"Convert this dataframe to an interactive table.\"\n",
              "              style=\"display:none;\">\n",
              "        \n",
              "  <svg xmlns=\"http://www.w3.org/2000/svg\" height=\"24px\"viewBox=\"0 0 24 24\"\n",
              "       width=\"24px\">\n",
              "    <path d=\"M0 0h24v24H0V0z\" fill=\"none\"/>\n",
              "    <path d=\"M18.56 5.44l.94 2.06.94-2.06 2.06-.94-2.06-.94-.94-2.06-.94 2.06-2.06.94zm-11 1L8.5 8.5l.94-2.06 2.06-.94-2.06-.94L8.5 2.5l-.94 2.06-2.06.94zm10 10l.94 2.06.94-2.06 2.06-.94-2.06-.94-.94-2.06-.94 2.06-2.06.94z\"/><path d=\"M17.41 7.96l-1.37-1.37c-.4-.4-.92-.59-1.43-.59-.52 0-1.04.2-1.43.59L10.3 9.45l-7.72 7.72c-.78.78-.78 2.05 0 2.83L4 21.41c.39.39.9.59 1.41.59.51 0 1.02-.2 1.41-.59l7.78-7.78 2.81-2.81c.8-.78.8-2.07 0-2.86zM5.41 20L4 18.59l7.72-7.72 1.47 1.35L5.41 20z\"/>\n",
              "  </svg>\n",
              "      </button>\n",
              "      \n",
              "  <style>\n",
              "    .colab-df-container {\n",
              "      display:flex;\n",
              "      flex-wrap:wrap;\n",
              "      gap: 12px;\n",
              "    }\n",
              "\n",
              "    .colab-df-convert {\n",
              "      background-color: #E8F0FE;\n",
              "      border: none;\n",
              "      border-radius: 50%;\n",
              "      cursor: pointer;\n",
              "      display: none;\n",
              "      fill: #1967D2;\n",
              "      height: 32px;\n",
              "      padding: 0 0 0 0;\n",
              "      width: 32px;\n",
              "    }\n",
              "\n",
              "    .colab-df-convert:hover {\n",
              "      background-color: #E2EBFA;\n",
              "      box-shadow: 0px 1px 2px rgba(60, 64, 67, 0.3), 0px 1px 3px 1px rgba(60, 64, 67, 0.15);\n",
              "      fill: #174EA6;\n",
              "    }\n",
              "\n",
              "    [theme=dark] .colab-df-convert {\n",
              "      background-color: #3B4455;\n",
              "      fill: #D2E3FC;\n",
              "    }\n",
              "\n",
              "    [theme=dark] .colab-df-convert:hover {\n",
              "      background-color: #434B5C;\n",
              "      box-shadow: 0px 1px 3px 1px rgba(0, 0, 0, 0.15);\n",
              "      filter: drop-shadow(0px 1px 2px rgba(0, 0, 0, 0.3));\n",
              "      fill: #FFFFFF;\n",
              "    }\n",
              "  </style>\n",
              "\n",
              "      <script>\n",
              "        const buttonEl =\n",
              "          document.querySelector('#df-fb84783f-4c00-44e3-8376-b5190525b56d button.colab-df-convert');\n",
              "        buttonEl.style.display =\n",
              "          google.colab.kernel.accessAllowed ? 'block' : 'none';\n",
              "\n",
              "        async function convertToInteractive(key) {\n",
              "          const element = document.querySelector('#df-fb84783f-4c00-44e3-8376-b5190525b56d');\n",
              "          const dataTable =\n",
              "            await google.colab.kernel.invokeFunction('convertToInteractive',\n",
              "                                                     [key], {});\n",
              "          if (!dataTable) return;\n",
              "\n",
              "          const docLinkHtml = 'Like what you see? Visit the ' +\n",
              "            '<a target=\"_blank\" href=https://colab.research.google.com/notebooks/data_table.ipynb>data table notebook</a>'\n",
              "            + ' to learn more about interactive tables.';\n",
              "          element.innerHTML = '';\n",
              "          dataTable['output_type'] = 'display_data';\n",
              "          await google.colab.output.renderOutput(dataTable, element);\n",
              "          const docLink = document.createElement('div');\n",
              "          docLink.innerHTML = docLinkHtml;\n",
              "          element.appendChild(docLink);\n",
              "        }\n",
              "      </script>\n",
              "    </div>\n",
              "  </div>\n",
              "  "
            ]
          },
          "metadata": {},
          "execution_count": 169
        }
      ]
    },
    {
      "cell_type": "code",
      "source": [
        "# revisamos la cantidad de registros y columnas\n",
        "\n",
        "df.shape"
      ],
      "metadata": {
        "id": "5cPUU_xtTbAS",
        "colab": {
          "base_uri": "https://localhost:8080/"
        },
        "outputId": "4f3958e6-b6dd-4606-8c4a-2de3bea62447"
      },
      "execution_count": 170,
      "outputs": [
        {
          "output_type": "execute_result",
          "data": {
            "text/plain": [
              "(30000, 24)"
            ]
          },
          "metadata": {},
          "execution_count": 170
        }
      ]
    },
    {
      "cell_type": "code",
      "source": [
        "# revisarmos los datos nulos \n",
        "df.isnull().values.any() "
      ],
      "metadata": {
        "colab": {
          "base_uri": "https://localhost:8080/"
        },
        "id": "z8_B-hHvKG_v",
        "outputId": "337828e0-74a8-46fc-c476-e2378766f37b"
      },
      "execution_count": 187,
      "outputs": [
        {
          "output_type": "execute_result",
          "data": {
            "text/plain": [
              "True"
            ]
          },
          "metadata": {},
          "execution_count": 187
        }
      ]
    },
    {
      "cell_type": "code",
      "source": [
        " # identificamos las columnas con valores nulos\n",
        "\n",
        "df.isnull().any() "
      ],
      "metadata": {
        "colab": {
          "base_uri": "https://localhost:8080/"
        },
        "id": "Wdb1GTZTKO7m",
        "outputId": "1f7eae28-cd21-492e-db5c-ecf550cd9cee"
      },
      "execution_count": 188,
      "outputs": [
        {
          "output_type": "execute_result",
          "data": {
            "text/plain": [
              "X1     False\n",
              "X2      True\n",
              "X3      True\n",
              "X4      True\n",
              "X5      True\n",
              "X6      True\n",
              "X7      True\n",
              "X8      True\n",
              "X9      True\n",
              "X10     True\n",
              "X11     True\n",
              "X12     True\n",
              "X13     True\n",
              "X14     True\n",
              "X15     True\n",
              "X16     True\n",
              "X17     True\n",
              "X18     True\n",
              "X19     True\n",
              "X20     True\n",
              "X21     True\n",
              "X22     True\n",
              "X23     True\n",
              "Y       True\n",
              "dtype: bool"
            ]
          },
          "metadata": {},
          "execution_count": 188
        }
      ]
    },
    {
      "cell_type": "markdown",
      "source": [
        "# Limpieza de datos\n",
        "\n",
        "se procede a quitar las variables categoricas dejando unicamente las numericas asi como la columa Y que es la variable de respuesta."
      ],
      "metadata": {
        "id": "40Bm7pIKtPOO"
      }
    },
    {
      "cell_type": "code",
      "source": [
        "# obtenemos el total de registros y copiamos a un nuevo dataframe y obtenemos la lista de las columnas\n",
        "\n",
        "ndf = df.copy()\n",
        "ndf.shape"
      ],
      "metadata": {
        "colab": {
          "base_uri": "https://localhost:8080/"
        },
        "id": "G0WL2tveiMEH",
        "outputId": "9d3869c3-4ac6-456a-ae56-fdc8b4531a11"
      },
      "execution_count": 199,
      "outputs": [
        {
          "output_type": "execute_result",
          "data": {
            "text/plain": [
              "(30000, 24)"
            ]
          },
          "metadata": {},
          "execution_count": 199
        }
      ]
    },
    {
      "cell_type": "code",
      "source": [
        "# eliminamos los valores nulos y revisamos el total de informacion\n",
        "\n",
        "ndf.dropna(inplace = True)\n",
        "ndf.shape"
      ],
      "metadata": {
        "colab": {
          "base_uri": "https://localhost:8080/"
        },
        "id": "Rl-AgP-yLc4O",
        "outputId": "c250014a-1ff4-488c-9981-9d10be7d390c"
      },
      "execution_count": 200,
      "outputs": [
        {
          "output_type": "execute_result",
          "data": {
            "text/plain": [
              "(29958, 24)"
            ]
          },
          "metadata": {},
          "execution_count": 200
        }
      ]
    },
    {
      "cell_type": "code",
      "source": [
        "# se observa que no es representativo el total de valores nulos\n",
        "print(1-(ndf.shape[0]/df.shape[0]) ) "
      ],
      "metadata": {
        "colab": {
          "base_uri": "https://localhost:8080/"
        },
        "id": "FPdn8kLrLnrA",
        "outputId": "b6f54deb-fa82-4480-fa2d-972c12ecb1a8"
      },
      "execution_count": 201,
      "outputs": [
        {
          "output_type": "stream",
          "name": "stdout",
          "text": [
            "0.0013999999999999568\n"
          ]
        }
      ]
    },
    {
      "cell_type": "code",
      "source": [
        "# se revisa de nuevo que ya no existan valores nulos\n",
        "print(ndf.isna().values.any() )\n",
        "print(ndf.isnull().values.any())"
      ],
      "metadata": {
        "colab": {
          "base_uri": "https://localhost:8080/"
        },
        "id": "Cq9TGIIjKdRd",
        "outputId": "c0b19cde-684f-4623-89b6-8ccf09cd7fc9"
      },
      "execution_count": 202,
      "outputs": [
        {
          "output_type": "stream",
          "name": "stdout",
          "text": [
            "False\n",
            "False\n"
          ]
        }
      ]
    },
    {
      "cell_type": "code",
      "source": [
        "# quitamos las variables categoricas segun la descripcion de los datos\n",
        "\n",
        "adf = ndf.copy()\n",
        "\n",
        "lista = {'X2', 'X3', 'X4', 'X5', 'X6', 'X7', 'X8', 'X9', 'X10', 'X11', 'Y'}\n",
        "adf.drop(lista, \n",
        "         axis = 1, \n",
        "         inplace = True\n",
        "        )"
      ],
      "metadata": {
        "id": "EcD_G8H5vERV"
      },
      "execution_count": 214,
      "outputs": []
    },
    {
      "cell_type": "code",
      "source": [
        "# revisamos de nuevo la informacion\n",
        "\n",
        "adf.info()"
      ],
      "metadata": {
        "colab": {
          "base_uri": "https://localhost:8080/"
        },
        "id": "DmJKQGrsvQpu",
        "outputId": "3584c5be-b55d-4434-92d6-cea96f694553"
      },
      "execution_count": 215,
      "outputs": [
        {
          "output_type": "stream",
          "name": "stdout",
          "text": [
            "<class 'pandas.core.frame.DataFrame'>\n",
            "Int64Index: 29958 entries, 1 to 30000\n",
            "Data columns (total 13 columns):\n",
            " #   Column  Non-Null Count  Dtype  \n",
            "---  ------  --------------  -----  \n",
            " 0   X1      29958 non-null  int64  \n",
            " 1   X12     29958 non-null  float64\n",
            " 2   X13     29958 non-null  float64\n",
            " 3   X14     29958 non-null  float64\n",
            " 4   X15     29958 non-null  float64\n",
            " 5   X16     29958 non-null  float64\n",
            " 6   X17     29958 non-null  float64\n",
            " 7   X18     29958 non-null  float64\n",
            " 8   X19     29958 non-null  float64\n",
            " 9   X20     29958 non-null  float64\n",
            " 10  X21     29958 non-null  float64\n",
            " 11  X22     29958 non-null  float64\n",
            " 12  X23     29958 non-null  float64\n",
            "dtypes: float64(12), int64(1)\n",
            "memory usage: 3.2 MB\n"
          ]
        }
      ]
    },
    {
      "cell_type": "code",
      "source": [
        "# se realiza la correlacion de las variables\n",
        "\n",
        "adf.corr()"
      ],
      "metadata": {
        "colab": {
          "base_uri": "https://localhost:8080/",
          "height": 457
        },
        "id": "dnpNojQYdN_M",
        "outputId": "a5ee242f-7e2e-4181-ce99-eb92821e422d"
      },
      "execution_count": 216,
      "outputs": [
        {
          "output_type": "execute_result",
          "data": {
            "text/plain": [
              "           X1       X12       X13       X14       X15       X16       X17  \\\n",
              "X1   1.000000  0.285616  0.278435  0.283373  0.294090  0.295625  0.290517   \n",
              "X12  0.285616  1.000000  0.951494  0.892272  0.860273  0.829781  0.802638   \n",
              "X13  0.278435  0.951494  1.000000  0.928306  0.892456  0.859756  0.831570   \n",
              "X14  0.283373  0.892272  0.928306  1.000000  0.923953  0.883893  0.853302   \n",
              "X15  0.294090  0.860273  0.892456  0.923953  1.000000  0.940133  0.900931   \n",
              "X16  0.295625  0.829781  0.859756  0.883893  0.940133  1.000000  0.946187   \n",
              "X17  0.290517  0.802638  0.831570  0.853302  0.900931  0.946187  1.000000   \n",
              "X18  0.195026  0.140276  0.280323  0.244291  0.232916  0.216967  0.199966   \n",
              "X19  0.178320  0.099301  0.100770  0.316904  0.207498  0.181177  0.172615   \n",
              "X20  0.210052  0.156856  0.150631  0.129933  0.299953  0.252229  0.233710   \n",
              "X21  0.203187  0.158260  0.147338  0.143343  0.130124  0.293084  0.250218   \n",
              "X22  0.216990  0.167010  0.157848  0.179617  0.160283  0.141421  0.307691   \n",
              "X23  0.219567  0.179287  0.174180  0.182257  0.177562  0.164102  0.115415   \n",
              "\n",
              "          X18       X19       X20       X21       X22       X23  \n",
              "X1   0.195026  0.178320  0.210052  0.203187  0.216990  0.219567  \n",
              "X12  0.140276  0.099301  0.156856  0.158260  0.167010  0.179287  \n",
              "X13  0.280323  0.100770  0.150631  0.147338  0.157848  0.174180  \n",
              "X14  0.244291  0.316904  0.129933  0.143343  0.179617  0.182257  \n",
              "X15  0.232916  0.207498  0.299953  0.130124  0.160283  0.177562  \n",
              "X16  0.216967  0.181177  0.252229  0.293084  0.141421  0.164102  \n",
              "X17  0.199966  0.172615  0.233710  0.250218  0.307691  0.115415  \n",
              "X18  1.000000  0.285522  0.252063  0.199491  0.148102  0.185659  \n",
              "X19  0.285522  1.000000  0.244709  0.180043  0.180800  0.157563  \n",
              "X20  0.252063  0.244709  1.000000  0.216281  0.159028  0.162667  \n",
              "X21  0.199491  0.180043  0.216281  1.000000  0.151733  0.157762  \n",
              "X22  0.148102  0.180800  0.159028  0.151733  1.000000  0.154790  \n",
              "X23  0.185659  0.157563  0.162667  0.157762  0.154790  1.000000  "
            ],
            "text/html": [
              "\n",
              "  <div id=\"df-744980d3-f86e-4f96-9f32-1ee1a74fd38d\">\n",
              "    <div class=\"colab-df-container\">\n",
              "      <div>\n",
              "<style scoped>\n",
              "    .dataframe tbody tr th:only-of-type {\n",
              "        vertical-align: middle;\n",
              "    }\n",
              "\n",
              "    .dataframe tbody tr th {\n",
              "        vertical-align: top;\n",
              "    }\n",
              "\n",
              "    .dataframe thead th {\n",
              "        text-align: right;\n",
              "    }\n",
              "</style>\n",
              "<table border=\"1\" class=\"dataframe\">\n",
              "  <thead>\n",
              "    <tr style=\"text-align: right;\">\n",
              "      <th></th>\n",
              "      <th>X1</th>\n",
              "      <th>X12</th>\n",
              "      <th>X13</th>\n",
              "      <th>X14</th>\n",
              "      <th>X15</th>\n",
              "      <th>X16</th>\n",
              "      <th>X17</th>\n",
              "      <th>X18</th>\n",
              "      <th>X19</th>\n",
              "      <th>X20</th>\n",
              "      <th>X21</th>\n",
              "      <th>X22</th>\n",
              "      <th>X23</th>\n",
              "    </tr>\n",
              "  </thead>\n",
              "  <tbody>\n",
              "    <tr>\n",
              "      <th>X1</th>\n",
              "      <td>1.000000</td>\n",
              "      <td>0.285616</td>\n",
              "      <td>0.278435</td>\n",
              "      <td>0.283373</td>\n",
              "      <td>0.294090</td>\n",
              "      <td>0.295625</td>\n",
              "      <td>0.290517</td>\n",
              "      <td>0.195026</td>\n",
              "      <td>0.178320</td>\n",
              "      <td>0.210052</td>\n",
              "      <td>0.203187</td>\n",
              "      <td>0.216990</td>\n",
              "      <td>0.219567</td>\n",
              "    </tr>\n",
              "    <tr>\n",
              "      <th>X12</th>\n",
              "      <td>0.285616</td>\n",
              "      <td>1.000000</td>\n",
              "      <td>0.951494</td>\n",
              "      <td>0.892272</td>\n",
              "      <td>0.860273</td>\n",
              "      <td>0.829781</td>\n",
              "      <td>0.802638</td>\n",
              "      <td>0.140276</td>\n",
              "      <td>0.099301</td>\n",
              "      <td>0.156856</td>\n",
              "      <td>0.158260</td>\n",
              "      <td>0.167010</td>\n",
              "      <td>0.179287</td>\n",
              "    </tr>\n",
              "    <tr>\n",
              "      <th>X13</th>\n",
              "      <td>0.278435</td>\n",
              "      <td>0.951494</td>\n",
              "      <td>1.000000</td>\n",
              "      <td>0.928306</td>\n",
              "      <td>0.892456</td>\n",
              "      <td>0.859756</td>\n",
              "      <td>0.831570</td>\n",
              "      <td>0.280323</td>\n",
              "      <td>0.100770</td>\n",
              "      <td>0.150631</td>\n",
              "      <td>0.147338</td>\n",
              "      <td>0.157848</td>\n",
              "      <td>0.174180</td>\n",
              "    </tr>\n",
              "    <tr>\n",
              "      <th>X14</th>\n",
              "      <td>0.283373</td>\n",
              "      <td>0.892272</td>\n",
              "      <td>0.928306</td>\n",
              "      <td>1.000000</td>\n",
              "      <td>0.923953</td>\n",
              "      <td>0.883893</td>\n",
              "      <td>0.853302</td>\n",
              "      <td>0.244291</td>\n",
              "      <td>0.316904</td>\n",
              "      <td>0.129933</td>\n",
              "      <td>0.143343</td>\n",
              "      <td>0.179617</td>\n",
              "      <td>0.182257</td>\n",
              "    </tr>\n",
              "    <tr>\n",
              "      <th>X15</th>\n",
              "      <td>0.294090</td>\n",
              "      <td>0.860273</td>\n",
              "      <td>0.892456</td>\n",
              "      <td>0.923953</td>\n",
              "      <td>1.000000</td>\n",
              "      <td>0.940133</td>\n",
              "      <td>0.900931</td>\n",
              "      <td>0.232916</td>\n",
              "      <td>0.207498</td>\n",
              "      <td>0.299953</td>\n",
              "      <td>0.130124</td>\n",
              "      <td>0.160283</td>\n",
              "      <td>0.177562</td>\n",
              "    </tr>\n",
              "    <tr>\n",
              "      <th>X16</th>\n",
              "      <td>0.295625</td>\n",
              "      <td>0.829781</td>\n",
              "      <td>0.859756</td>\n",
              "      <td>0.883893</td>\n",
              "      <td>0.940133</td>\n",
              "      <td>1.000000</td>\n",
              "      <td>0.946187</td>\n",
              "      <td>0.216967</td>\n",
              "      <td>0.181177</td>\n",
              "      <td>0.252229</td>\n",
              "      <td>0.293084</td>\n",
              "      <td>0.141421</td>\n",
              "      <td>0.164102</td>\n",
              "    </tr>\n",
              "    <tr>\n",
              "      <th>X17</th>\n",
              "      <td>0.290517</td>\n",
              "      <td>0.802638</td>\n",
              "      <td>0.831570</td>\n",
              "      <td>0.853302</td>\n",
              "      <td>0.900931</td>\n",
              "      <td>0.946187</td>\n",
              "      <td>1.000000</td>\n",
              "      <td>0.199966</td>\n",
              "      <td>0.172615</td>\n",
              "      <td>0.233710</td>\n",
              "      <td>0.250218</td>\n",
              "      <td>0.307691</td>\n",
              "      <td>0.115415</td>\n",
              "    </tr>\n",
              "    <tr>\n",
              "      <th>X18</th>\n",
              "      <td>0.195026</td>\n",
              "      <td>0.140276</td>\n",
              "      <td>0.280323</td>\n",
              "      <td>0.244291</td>\n",
              "      <td>0.232916</td>\n",
              "      <td>0.216967</td>\n",
              "      <td>0.199966</td>\n",
              "      <td>1.000000</td>\n",
              "      <td>0.285522</td>\n",
              "      <td>0.252063</td>\n",
              "      <td>0.199491</td>\n",
              "      <td>0.148102</td>\n",
              "      <td>0.185659</td>\n",
              "    </tr>\n",
              "    <tr>\n",
              "      <th>X19</th>\n",
              "      <td>0.178320</td>\n",
              "      <td>0.099301</td>\n",
              "      <td>0.100770</td>\n",
              "      <td>0.316904</td>\n",
              "      <td>0.207498</td>\n",
              "      <td>0.181177</td>\n",
              "      <td>0.172615</td>\n",
              "      <td>0.285522</td>\n",
              "      <td>1.000000</td>\n",
              "      <td>0.244709</td>\n",
              "      <td>0.180043</td>\n",
              "      <td>0.180800</td>\n",
              "      <td>0.157563</td>\n",
              "    </tr>\n",
              "    <tr>\n",
              "      <th>X20</th>\n",
              "      <td>0.210052</td>\n",
              "      <td>0.156856</td>\n",
              "      <td>0.150631</td>\n",
              "      <td>0.129933</td>\n",
              "      <td>0.299953</td>\n",
              "      <td>0.252229</td>\n",
              "      <td>0.233710</td>\n",
              "      <td>0.252063</td>\n",
              "      <td>0.244709</td>\n",
              "      <td>1.000000</td>\n",
              "      <td>0.216281</td>\n",
              "      <td>0.159028</td>\n",
              "      <td>0.162667</td>\n",
              "    </tr>\n",
              "    <tr>\n",
              "      <th>X21</th>\n",
              "      <td>0.203187</td>\n",
              "      <td>0.158260</td>\n",
              "      <td>0.147338</td>\n",
              "      <td>0.143343</td>\n",
              "      <td>0.130124</td>\n",
              "      <td>0.293084</td>\n",
              "      <td>0.250218</td>\n",
              "      <td>0.199491</td>\n",
              "      <td>0.180043</td>\n",
              "      <td>0.216281</td>\n",
              "      <td>1.000000</td>\n",
              "      <td>0.151733</td>\n",
              "      <td>0.157762</td>\n",
              "    </tr>\n",
              "    <tr>\n",
              "      <th>X22</th>\n",
              "      <td>0.216990</td>\n",
              "      <td>0.167010</td>\n",
              "      <td>0.157848</td>\n",
              "      <td>0.179617</td>\n",
              "      <td>0.160283</td>\n",
              "      <td>0.141421</td>\n",
              "      <td>0.307691</td>\n",
              "      <td>0.148102</td>\n",
              "      <td>0.180800</td>\n",
              "      <td>0.159028</td>\n",
              "      <td>0.151733</td>\n",
              "      <td>1.000000</td>\n",
              "      <td>0.154790</td>\n",
              "    </tr>\n",
              "    <tr>\n",
              "      <th>X23</th>\n",
              "      <td>0.219567</td>\n",
              "      <td>0.179287</td>\n",
              "      <td>0.174180</td>\n",
              "      <td>0.182257</td>\n",
              "      <td>0.177562</td>\n",
              "      <td>0.164102</td>\n",
              "      <td>0.115415</td>\n",
              "      <td>0.185659</td>\n",
              "      <td>0.157563</td>\n",
              "      <td>0.162667</td>\n",
              "      <td>0.157762</td>\n",
              "      <td>0.154790</td>\n",
              "      <td>1.000000</td>\n",
              "    </tr>\n",
              "  </tbody>\n",
              "</table>\n",
              "</div>\n",
              "      <button class=\"colab-df-convert\" onclick=\"convertToInteractive('df-744980d3-f86e-4f96-9f32-1ee1a74fd38d')\"\n",
              "              title=\"Convert this dataframe to an interactive table.\"\n",
              "              style=\"display:none;\">\n",
              "        \n",
              "  <svg xmlns=\"http://www.w3.org/2000/svg\" height=\"24px\"viewBox=\"0 0 24 24\"\n",
              "       width=\"24px\">\n",
              "    <path d=\"M0 0h24v24H0V0z\" fill=\"none\"/>\n",
              "    <path d=\"M18.56 5.44l.94 2.06.94-2.06 2.06-.94-2.06-.94-.94-2.06-.94 2.06-2.06.94zm-11 1L8.5 8.5l.94-2.06 2.06-.94-2.06-.94L8.5 2.5l-.94 2.06-2.06.94zm10 10l.94 2.06.94-2.06 2.06-.94-2.06-.94-.94-2.06-.94 2.06-2.06.94z\"/><path d=\"M17.41 7.96l-1.37-1.37c-.4-.4-.92-.59-1.43-.59-.52 0-1.04.2-1.43.59L10.3 9.45l-7.72 7.72c-.78.78-.78 2.05 0 2.83L4 21.41c.39.39.9.59 1.41.59.51 0 1.02-.2 1.41-.59l7.78-7.78 2.81-2.81c.8-.78.8-2.07 0-2.86zM5.41 20L4 18.59l7.72-7.72 1.47 1.35L5.41 20z\"/>\n",
              "  </svg>\n",
              "      </button>\n",
              "      \n",
              "  <style>\n",
              "    .colab-df-container {\n",
              "      display:flex;\n",
              "      flex-wrap:wrap;\n",
              "      gap: 12px;\n",
              "    }\n",
              "\n",
              "    .colab-df-convert {\n",
              "      background-color: #E8F0FE;\n",
              "      border: none;\n",
              "      border-radius: 50%;\n",
              "      cursor: pointer;\n",
              "      display: none;\n",
              "      fill: #1967D2;\n",
              "      height: 32px;\n",
              "      padding: 0 0 0 0;\n",
              "      width: 32px;\n",
              "    }\n",
              "\n",
              "    .colab-df-convert:hover {\n",
              "      background-color: #E2EBFA;\n",
              "      box-shadow: 0px 1px 2px rgba(60, 64, 67, 0.3), 0px 1px 3px 1px rgba(60, 64, 67, 0.15);\n",
              "      fill: #174EA6;\n",
              "    }\n",
              "\n",
              "    [theme=dark] .colab-df-convert {\n",
              "      background-color: #3B4455;\n",
              "      fill: #D2E3FC;\n",
              "    }\n",
              "\n",
              "    [theme=dark] .colab-df-convert:hover {\n",
              "      background-color: #434B5C;\n",
              "      box-shadow: 0px 1px 3px 1px rgba(0, 0, 0, 0.15);\n",
              "      filter: drop-shadow(0px 1px 2px rgba(0, 0, 0, 0.3));\n",
              "      fill: #FFFFFF;\n",
              "    }\n",
              "  </style>\n",
              "\n",
              "      <script>\n",
              "        const buttonEl =\n",
              "          document.querySelector('#df-744980d3-f86e-4f96-9f32-1ee1a74fd38d button.colab-df-convert');\n",
              "        buttonEl.style.display =\n",
              "          google.colab.kernel.accessAllowed ? 'block' : 'none';\n",
              "\n",
              "        async function convertToInteractive(key) {\n",
              "          const element = document.querySelector('#df-744980d3-f86e-4f96-9f32-1ee1a74fd38d');\n",
              "          const dataTable =\n",
              "            await google.colab.kernel.invokeFunction('convertToInteractive',\n",
              "                                                     [key], {});\n",
              "          if (!dataTable) return;\n",
              "\n",
              "          const docLinkHtml = 'Like what you see? Visit the ' +\n",
              "            '<a target=\"_blank\" href=https://colab.research.google.com/notebooks/data_table.ipynb>data table notebook</a>'\n",
              "            + ' to learn more about interactive tables.';\n",
              "          element.innerHTML = '';\n",
              "          dataTable['output_type'] = 'display_data';\n",
              "          await google.colab.output.renderOutput(dataTable, element);\n",
              "          const docLink = document.createElement('div');\n",
              "          docLink.innerHTML = docLinkHtml;\n",
              "          element.appendChild(docLink);\n",
              "        }\n",
              "      </script>\n",
              "    </div>\n",
              "  </div>\n",
              "  "
            ]
          },
          "metadata": {},
          "execution_count": 216
        }
      ]
    },
    {
      "cell_type": "code",
      "source": [
        "# para visualizar mejor la correlacion \n",
        "\n",
        "sns.set(rc={'figure.figsize':(12,8)}) \n",
        "misdatoscorr = adf.corr()\n",
        "ax = sns.heatmap(misdatoscorr, cmap=\"BuGn\")\n",
        "plt.show()"
      ],
      "metadata": {
        "colab": {
          "base_uri": "https://localhost:8080/",
          "height": 489
        },
        "id": "bf-jD3cggiIr",
        "outputId": "2ecca279-0b68-4672-a2a0-68eeb29d99c0"
      },
      "execution_count": 217,
      "outputs": [
        {
          "output_type": "display_data",
          "data": {
            "text/plain": [
              "<Figure size 864x576 with 2 Axes>"
            ],
            "image/png": "[encoded data removed]"
          },
          "metadata": {}
        }
      ]
    },
    {
      "cell_type": "code",
      "source": [
        "## se observa que existe multiples variables con correlacion muy alta positivamente\n",
        "## aplicamos PCA para normalizar la informacion\n",
        "\n",
        "pcs = PCA() \n",
        "pcs.fit(preprocessing.scale(adf.dropna(axis=0)))"
      ],
      "metadata": {
        "colab": {
          "base_uri": "https://localhost:8080/"
        },
        "id": "lhImUL0-NsH0",
        "outputId": "3a062f64-31fe-496b-de53-a84a2e03035c"
      },
      "execution_count": 218,
      "outputs": [
        {
          "output_type": "execute_result",
          "data": {
            "text/plain": [
              "PCA()"
            ]
          },
          "metadata": {},
          "execution_count": 218
        }
      ]
    },
    {
      "cell_type": "code",
      "source": [
        "pcsSumdf = pd.DataFrame({'Standard deviation': np.sqrt(pcs.explained_variance_),\n",
        "                             'Proportion of variance': pcs.explained_variance_ratio_,\n",
        "                             'Cumulative proportion': np.cumsum(pcs.explained_variance_ratio_)\n",
        "                             })\n",
        "\n",
        "pcsSumdf = pcsSumdf.transpose()\n",
        "pcsSumdf.columns = ['PC{}'.format(i) for i in range(1, len(pcsSumdf.columns) + 1)]\n",
        "pcsSumdf.round(4)"
      ],
      "metadata": {
        "colab": {
          "base_uri": "https://localhost:8080/",
          "height": 143
        },
        "id": "T4_QHXmQ9auQ",
        "outputId": "a910c54c-632a-42ff-d0cf-a0bbd1961fb5"
      },
      "execution_count": 219,
      "outputs": [
        {
          "output_type": "execute_result",
          "data": {
            "text/plain": [
              "                           PC1     PC2     PC3     PC4     PC5     PC6  \\\n",
              "Standard deviation      2.4318  1.3085  0.9707  0.9402  0.9347  0.8845   \n",
              "Proportion of variance  0.4549  0.1317  0.0725  0.0680  0.0672  0.0602   \n",
              "Cumulative proportion   0.4549  0.5866  0.6591  0.7271  0.7943  0.8544   \n",
              "\n",
              "                           PC7     PC8     PC9    PC10    PC11    PC12    PC13  \n",
              "Standard deviation      0.8607  0.8523  0.5143  0.2665  0.2026  0.1592  0.1525  \n",
              "Proportion of variance  0.0570  0.0559  0.0203  0.0055  0.0032  0.0019  0.0018  \n",
              "Cumulative proportion   0.9114  0.9673  0.9876  0.9931  0.9963  0.9982  1.0000  "
            ],
            "text/html": [
              "\n",
              "  <div id=\"df-a33cec0c-ce7e-4f6e-95ea-d7e4da588eac\">\n",
              "    <div class=\"colab-df-container\">\n",
              "      <div>\n",
              "<style scoped>\n",
              "    .dataframe tbody tr th:only-of-type {\n",
              "        vertical-align: middle;\n",
              "    }\n",
              "\n",
              "    .dataframe tbody tr th {\n",
              "        vertical-align: top;\n",
              "    }\n",
              "\n",
              "    .dataframe thead th {\n",
              "        text-align: right;\n",
              "    }\n",
              "</style>\n",
              "<table border=\"1\" class=\"dataframe\">\n",
              "  <thead>\n",
              "    <tr style=\"text-align: right;\">\n",
              "      <th></th>\n",
              "      <th>PC1</th>\n",
              "      <th>PC2</th>\n",
              "      <th>PC3</th>\n",
              "      <th>PC4</th>\n",
              "      <th>PC5</th>\n",
              "      <th>PC6</th>\n",
              "      <th>PC7</th>\n",
              "      <th>PC8</th>\n",
              "      <th>PC9</th>\n",
              "      <th>PC10</th>\n",
              "      <th>PC11</th>\n",
              "      <th>PC12</th>\n",
              "      <th>PC13</th>\n",
              "    </tr>\n",
              "  </thead>\n",
              "  <tbody>\n",
              "    <tr>\n",
              "      <th>Standard deviation</th>\n",
              "      <td>2.4318</td>\n",
              "      <td>1.3085</td>\n",
              "      <td>0.9707</td>\n",
              "      <td>0.9402</td>\n",
              "      <td>0.9347</td>\n",
              "      <td>0.8845</td>\n",
              "      <td>0.8607</td>\n",
              "      <td>0.8523</td>\n",
              "      <td>0.5143</td>\n",
              "      <td>0.2665</td>\n",
              "      <td>0.2026</td>\n",
              "      <td>0.1592</td>\n",
              "      <td>0.1525</td>\n",
              "    </tr>\n",
              "    <tr>\n",
              "      <th>Proportion of variance</th>\n",
              "      <td>0.4549</td>\n",
              "      <td>0.1317</td>\n",
              "      <td>0.0725</td>\n",
              "      <td>0.0680</td>\n",
              "      <td>0.0672</td>\n",
              "      <td>0.0602</td>\n",
              "      <td>0.0570</td>\n",
              "      <td>0.0559</td>\n",
              "      <td>0.0203</td>\n",
              "      <td>0.0055</td>\n",
              "      <td>0.0032</td>\n",
              "      <td>0.0019</td>\n",
              "      <td>0.0018</td>\n",
              "    </tr>\n",
              "    <tr>\n",
              "      <th>Cumulative proportion</th>\n",
              "      <td>0.4549</td>\n",
              "      <td>0.5866</td>\n",
              "      <td>0.6591</td>\n",
              "      <td>0.7271</td>\n",
              "      <td>0.7943</td>\n",
              "      <td>0.8544</td>\n",
              "      <td>0.9114</td>\n",
              "      <td>0.9673</td>\n",
              "      <td>0.9876</td>\n",
              "      <td>0.9931</td>\n",
              "      <td>0.9963</td>\n",
              "      <td>0.9982</td>\n",
              "      <td>1.0000</td>\n",
              "    </tr>\n",
              "  </tbody>\n",
              "</table>\n",
              "</div>\n",
              "      <button class=\"colab-df-convert\" onclick=\"convertToInteractive('df-a33cec0c-ce7e-4f6e-95ea-d7e4da588eac')\"\n",
              "              title=\"Convert this dataframe to an interactive table.\"\n",
              "              style=\"display:none;\">\n",
              "        \n",
              "  <svg xmlns=\"http://www.w3.org/2000/svg\" height=\"24px\"viewBox=\"0 0 24 24\"\n",
              "       width=\"24px\">\n",
              "    <path d=\"M0 0h24v24H0V0z\" fill=\"none\"/>\n",
              "    <path d=\"M18.56 5.44l.94 2.06.94-2.06 2.06-.94-2.06-.94-.94-2.06-.94 2.06-2.06.94zm-11 1L8.5 8.5l.94-2.06 2.06-.94-2.06-.94L8.5 2.5l-.94 2.06-2.06.94zm10 10l.94 2.06.94-2.06 2.06-.94-2.06-.94-.94-2.06-.94 2.06-2.06.94z\"/><path d=\"M17.41 7.96l-1.37-1.37c-.4-.4-.92-.59-1.43-.59-.52 0-1.04.2-1.43.59L10.3 9.45l-7.72 7.72c-.78.78-.78 2.05 0 2.83L4 21.41c.39.39.9.59 1.41.59.51 0 1.02-.2 1.41-.59l7.78-7.78 2.81-2.81c.8-.78.8-2.07 0-2.86zM5.41 20L4 18.59l7.72-7.72 1.47 1.35L5.41 20z\"/>\n",
              "  </svg>\n",
              "      </button>\n",
              "      \n",
              "  <style>\n",
              "    .colab-df-container {\n",
              "      display:flex;\n",
              "      flex-wrap:wrap;\n",
              "      gap: 12px;\n",
              "    }\n",
              "\n",
              "    .colab-df-convert {\n",
              "      background-color: #E8F0FE;\n",
              "      border: none;\n",
              "      border-radius: 50%;\n",
              "      cursor: pointer;\n",
              "      display: none;\n",
              "      fill: #1967D2;\n",
              "      height: 32px;\n",
              "      padding: 0 0 0 0;\n",
              "      width: 32px;\n",
              "    }\n",
              "\n",
              "    .colab-df-convert:hover {\n",
              "      background-color: #E2EBFA;\n",
              "      box-shadow: 0px 1px 2px rgba(60, 64, 67, 0.3), 0px 1px 3px 1px rgba(60, 64, 67, 0.15);\n",
              "      fill: #174EA6;\n",
              "    }\n",
              "\n",
              "    [theme=dark] .colab-df-convert {\n",
              "      background-color: #3B4455;\n",
              "      fill: #D2E3FC;\n",
              "    }\n",
              "\n",
              "    [theme=dark] .colab-df-convert:hover {\n",
              "      background-color: #434B5C;\n",
              "      box-shadow: 0px 1px 3px 1px rgba(0, 0, 0, 0.15);\n",
              "      filter: drop-shadow(0px 1px 2px rgba(0, 0, 0, 0.3));\n",
              "      fill: #FFFFFF;\n",
              "    }\n",
              "  </style>\n",
              "\n",
              "      <script>\n",
              "        const buttonEl =\n",
              "          document.querySelector('#df-a33cec0c-ce7e-4f6e-95ea-d7e4da588eac button.colab-df-convert');\n",
              "        buttonEl.style.display =\n",
              "          google.colab.kernel.accessAllowed ? 'block' : 'none';\n",
              "\n",
              "        async function convertToInteractive(key) {\n",
              "          const element = document.querySelector('#df-a33cec0c-ce7e-4f6e-95ea-d7e4da588eac');\n",
              "          const dataTable =\n",
              "            await google.colab.kernel.invokeFunction('convertToInteractive',\n",
              "                                                     [key], {});\n",
              "          if (!dataTable) return;\n",
              "\n",
              "          const docLinkHtml = 'Like what you see? Visit the ' +\n",
              "            '<a target=\"_blank\" href=https://colab.research.google.com/notebooks/data_table.ipynb>data table notebook</a>'\n",
              "            + ' to learn more about interactive tables.';\n",
              "          element.innerHTML = '';\n",
              "          dataTable['output_type'] = 'display_data';\n",
              "          await google.colab.output.renderOutput(dataTable, element);\n",
              "          const docLink = document.createElement('div');\n",
              "          docLink.innerHTML = docLinkHtml;\n",
              "          element.appendChild(docLink);\n",
              "        }\n",
              "      </script>\n",
              "    </div>\n",
              "  </div>\n",
              "  "
            ]
          },
          "metadata": {},
          "execution_count": 219
        }
      ]
    },
    {
      "cell_type": "markdown",
      "source": [
        "Se observa que son 7 los componentes que generan el .9114 del total de la varianza"
      ],
      "metadata": {
        "id": "jXZ3OJ5JPgYT"
      }
    },
    {
      "cell_type": "markdown",
      "source": [
        "# Paso dos"
      ],
      "metadata": {
        "id": "c7MW5StvQAII"
      }
    },
    {
      "cell_type": "code",
      "source": [
        "# Se obtienen los componentes seleccionados \n",
        "\n",
        "pcsComponentesdf = pd.DataFrame(pcs.components_.transpose(), \n",
        "                                columns=pcsSumdf.columns,\n",
        "                                index=adf.columns\n",
        "                                )\n",
        "\n",
        "pcsComponentesdf.iloc[:,:7]"
      ],
      "metadata": {
        "colab": {
          "base_uri": "https://localhost:8080/",
          "height": 457
        },
        "id": "14Vhx3_yQBUs",
        "outputId": "81738eba-8d64-482c-a725-ebec7d6e6bf5"
      },
      "execution_count": 220,
      "outputs": [
        {
          "output_type": "execute_result",
          "data": {
            "text/plain": [
              "          PC1       PC2       PC3       PC4       PC5       PC6       PC7\n",
              "X1   0.164821  0.293951 -0.392929  0.051168 -0.104442  0.255897 -0.800314\n",
              "X12  0.372685 -0.190703 -0.074363  0.040767 -0.038684  0.003202  0.017836\n",
              "X13  0.383520 -0.174107  0.003749  0.084287 -0.025024 -0.033223 -0.012841\n",
              "X14  0.388541 -0.125829  0.072482  0.110977  0.102285 -0.115389 -0.025799\n",
              "X15  0.391850 -0.119224  0.080828  0.030669  0.011442  0.122134  0.045429\n",
              "X16  0.388805 -0.104580  0.050685 -0.102067 -0.103734 -0.014053  0.034811\n",
              "X17  0.380968 -0.092774 -0.044910 -0.172261  0.069223 -0.005083  0.065330\n",
              "X18  0.135142  0.386065  0.394230  0.235987  0.033602 -0.179313 -0.167904\n",
              "X19  0.116787  0.411567  0.410514  0.142616  0.399039 -0.250852 -0.074504\n",
              "X20  0.128043  0.394763  0.265181 -0.224107 -0.134503  0.752154  0.285234\n",
              "X21  0.116924  0.352008 -0.052701 -0.566440 -0.506705 -0.487574  0.057741\n",
              "X22  0.113747  0.305506 -0.534489 -0.248634  0.638142 -0.043268  0.253846\n",
              "X23  0.105492  0.325280 -0.375465  0.652948 -0.344087 -0.067325  0.409796"
            ],
            "text/html": [
              "\n",
              "  <div id=\"df-076b39eb-35c1-47ea-99f9-3ac1cb723acd\">\n",
              "    <div class=\"colab-df-container\">\n",
              "      <div>\n",
              "<style scoped>\n",
              "    .dataframe tbody tr th:only-of-type {\n",
              "        vertical-align: middle;\n",
              "    }\n",
              "\n",
              "    .dataframe tbody tr th {\n",
              "        vertical-align: top;\n",
              "    }\n",
              "\n",
              "    .dataframe thead th {\n",
              "        text-align: right;\n",
              "    }\n",
              "</style>\n",
              "<table border=\"1\" class=\"dataframe\">\n",
              "  <thead>\n",
              "    <tr style=\"text-align: right;\">\n",
              "      <th></th>\n",
              "      <th>PC1</th>\n",
              "      <th>PC2</th>\n",
              "      <th>PC3</th>\n",
              "      <th>PC4</th>\n",
              "      <th>PC5</th>\n",
              "      <th>PC6</th>\n",
              "      <th>PC7</th>\n",
              "    </tr>\n",
              "  </thead>\n",
              "  <tbody>\n",
              "    <tr>\n",
              "      <th>X1</th>\n",
              "      <td>0.164821</td>\n",
              "      <td>0.293951</td>\n",
              "      <td>-0.392929</td>\n",
              "      <td>0.051168</td>\n",
              "      <td>-0.104442</td>\n",
              "      <td>0.255897</td>\n",
              "      <td>-0.800314</td>\n",
              "    </tr>\n",
              "    <tr>\n",
              "      <th>X12</th>\n",
              "      <td>0.372685</td>\n",
              "      <td>-0.190703</td>\n",
              "      <td>-0.074363</td>\n",
              "      <td>0.040767</td>\n",
              "      <td>-0.038684</td>\n",
              "      <td>0.003202</td>\n",
              "      <td>0.017836</td>\n",
              "    </tr>\n",
              "    <tr>\n",
              "      <th>X13</th>\n",
              "      <td>0.383520</td>\n",
              "      <td>-0.174107</td>\n",
              "      <td>0.003749</td>\n",
              "      <td>0.084287</td>\n",
              "      <td>-0.025024</td>\n",
              "      <td>-0.033223</td>\n",
              "      <td>-0.012841</td>\n",
              "    </tr>\n",
              "    <tr>\n",
              "      <th>X14</th>\n",
              "      <td>0.388541</td>\n",
              "      <td>-0.125829</td>\n",
              "      <td>0.072482</td>\n",
              "      <td>0.110977</td>\n",
              "      <td>0.102285</td>\n",
              "      <td>-0.115389</td>\n",
              "      <td>-0.025799</td>\n",
              "    </tr>\n",
              "    <tr>\n",
              "      <th>X15</th>\n",
              "      <td>0.391850</td>\n",
              "      <td>-0.119224</td>\n",
              "      <td>0.080828</td>\n",
              "      <td>0.030669</td>\n",
              "      <td>0.011442</td>\n",
              "      <td>0.122134</td>\n",
              "      <td>0.045429</td>\n",
              "    </tr>\n",
              "    <tr>\n",
              "      <th>X16</th>\n",
              "      <td>0.388805</td>\n",
              "      <td>-0.104580</td>\n",
              "      <td>0.050685</td>\n",
              "      <td>-0.102067</td>\n",
              "      <td>-0.103734</td>\n",
              "      <td>-0.014053</td>\n",
              "      <td>0.034811</td>\n",
              "    </tr>\n",
              "    <tr>\n",
              "      <th>X17</th>\n",
              "      <td>0.380968</td>\n",
              "      <td>-0.092774</td>\n",
              "      <td>-0.044910</td>\n",
              "      <td>-0.172261</td>\n",
              "      <td>0.069223</td>\n",
              "      <td>-0.005083</td>\n",
              "      <td>0.065330</td>\n",
              "    </tr>\n",
              "    <tr>\n",
              "      <th>X18</th>\n",
              "      <td>0.135142</td>\n",
              "      <td>0.386065</td>\n",
              "      <td>0.394230</td>\n",
              "      <td>0.235987</td>\n",
              "      <td>0.033602</td>\n",
              "      <td>-0.179313</td>\n",
              "      <td>-0.167904</td>\n",
              "    </tr>\n",
              "    <tr>\n",
              "      <th>X19</th>\n",
              "      <td>0.116787</td>\n",
              "      <td>0.411567</td>\n",
              "      <td>0.410514</td>\n",
              "      <td>0.142616</td>\n",
              "      <td>0.399039</td>\n",
              "      <td>-0.250852</td>\n",
              "      <td>-0.074504</td>\n",
              "    </tr>\n",
              "    <tr>\n",
              "      <th>X20</th>\n",
              "      <td>0.128043</td>\n",
              "      <td>0.394763</td>\n",
              "      <td>0.265181</td>\n",
              "      <td>-0.224107</td>\n",
              "      <td>-0.134503</td>\n",
              "      <td>0.752154</td>\n",
              "      <td>0.285234</td>\n",
              "    </tr>\n",
              "    <tr>\n",
              "      <th>X21</th>\n",
              "      <td>0.116924</td>\n",
              "      <td>0.352008</td>\n",
              "      <td>-0.052701</td>\n",
              "      <td>-0.566440</td>\n",
              "      <td>-0.506705</td>\n",
              "      <td>-0.487574</td>\n",
              "      <td>0.057741</td>\n",
              "    </tr>\n",
              "    <tr>\n",
              "      <th>X22</th>\n",
              "      <td>0.113747</td>\n",
              "      <td>0.305506</td>\n",
              "      <td>-0.534489</td>\n",
              "      <td>-0.248634</td>\n",
              "      <td>0.638142</td>\n",
              "      <td>-0.043268</td>\n",
              "      <td>0.253846</td>\n",
              "    </tr>\n",
              "    <tr>\n",
              "      <th>X23</th>\n",
              "      <td>0.105492</td>\n",
              "      <td>0.325280</td>\n",
              "      <td>-0.375465</td>\n",
              "      <td>0.652948</td>\n",
              "      <td>-0.344087</td>\n",
              "      <td>-0.067325</td>\n",
              "      <td>0.409796</td>\n",
              "    </tr>\n",
              "  </tbody>\n",
              "</table>\n",
              "</div>\n",
              "      <button class=\"colab-df-convert\" onclick=\"convertToInteractive('df-076b39eb-35c1-47ea-99f9-3ac1cb723acd')\"\n",
              "              title=\"Convert this dataframe to an interactive table.\"\n",
              "              style=\"display:none;\">\n",
              "        \n",
              "  <svg xmlns=\"http://www.w3.org/2000/svg\" height=\"24px\"viewBox=\"0 0 24 24\"\n",
              "       width=\"24px\">\n",
              "    <path d=\"M0 0h24v24H0V0z\" fill=\"none\"/>\n",
              "    <path d=\"M18.56 5.44l.94 2.06.94-2.06 2.06-.94-2.06-.94-.94-2.06-.94 2.06-2.06.94zm-11 1L8.5 8.5l.94-2.06 2.06-.94-2.06-.94L8.5 2.5l-.94 2.06-2.06.94zm10 10l.94 2.06.94-2.06 2.06-.94-2.06-.94-.94-2.06-.94 2.06-2.06.94z\"/><path d=\"M17.41 7.96l-1.37-1.37c-.4-.4-.92-.59-1.43-.59-.52 0-1.04.2-1.43.59L10.3 9.45l-7.72 7.72c-.78.78-.78 2.05 0 2.83L4 21.41c.39.39.9.59 1.41.59.51 0 1.02-.2 1.41-.59l7.78-7.78 2.81-2.81c.8-.78.8-2.07 0-2.86zM5.41 20L4 18.59l7.72-7.72 1.47 1.35L5.41 20z\"/>\n",
              "  </svg>\n",
              "      </button>\n",
              "      \n",
              "  <style>\n",
              "    .colab-df-container {\n",
              "      display:flex;\n",
              "      flex-wrap:wrap;\n",
              "      gap: 12px;\n",
              "    }\n",
              "\n",
              "    .colab-df-convert {\n",
              "      background-color: #E8F0FE;\n",
              "      border: none;\n",
              "      border-radius: 50%;\n",
              "      cursor: pointer;\n",
              "      display: none;\n",
              "      fill: #1967D2;\n",
              "      height: 32px;\n",
              "      padding: 0 0 0 0;\n",
              "      width: 32px;\n",
              "    }\n",
              "\n",
              "    .colab-df-convert:hover {\n",
              "      background-color: #E2EBFA;\n",
              "      box-shadow: 0px 1px 2px rgba(60, 64, 67, 0.3), 0px 1px 3px 1px rgba(60, 64, 67, 0.15);\n",
              "      fill: #174EA6;\n",
              "    }\n",
              "\n",
              "    [theme=dark] .colab-df-convert {\n",
              "      background-color: #3B4455;\n",
              "      fill: #D2E3FC;\n",
              "    }\n",
              "\n",
              "    [theme=dark] .colab-df-convert:hover {\n",
              "      background-color: #434B5C;\n",
              "      box-shadow: 0px 1px 3px 1px rgba(0, 0, 0, 0.15);\n",
              "      filter: drop-shadow(0px 1px 2px rgba(0, 0, 0, 0.3));\n",
              "      fill: #FFFFFF;\n",
              "    }\n",
              "  </style>\n",
              "\n",
              "      <script>\n",
              "        const buttonEl =\n",
              "          document.querySelector('#df-076b39eb-35c1-47ea-99f9-3ac1cb723acd button.colab-df-convert');\n",
              "        buttonEl.style.display =\n",
              "          google.colab.kernel.accessAllowed ? 'block' : 'none';\n",
              "\n",
              "        async function convertToInteractive(key) {\n",
              "          const element = document.querySelector('#df-076b39eb-35c1-47ea-99f9-3ac1cb723acd');\n",
              "          const dataTable =\n",
              "            await google.colab.kernel.invokeFunction('convertToInteractive',\n",
              "                                                     [key], {});\n",
              "          if (!dataTable) return;\n",
              "\n",
              "          const docLinkHtml = 'Like what you see? Visit the ' +\n",
              "            '<a target=\"_blank\" href=https://colab.research.google.com/notebooks/data_table.ipynb>data table notebook</a>'\n",
              "            + ' to learn more about interactive tables.';\n",
              "          element.innerHTML = '';\n",
              "          dataTable['output_type'] = 'display_data';\n",
              "          await google.colab.output.renderOutput(dataTable, element);\n",
              "          const docLink = document.createElement('div');\n",
              "          docLink.innerHTML = docLinkHtml;\n",
              "          element.appendChild(docLink);\n",
              "        }\n",
              "      </script>\n",
              "    </div>\n",
              "  </div>\n",
              "  "
            ]
          },
          "metadata": {},
          "execution_count": 220
        }
      ]
    },
    {
      "cell_type": "markdown",
      "source": [
        "Se resume los tres principales y la menor variable que representan a cada componente:"
      ],
      "metadata": {
        "id": "XtBbp-fIQzIU"
      }
    },
    {
      "cell_type": "code",
      "source": [
        "# resumen del componente PC1\n",
        "\n",
        "print( \" Min Variable  PC1 :\" ) \n",
        "print( pcsComponentesdf.PC1.idxmin())\n",
        "\n",
        "print( \" Max Variables  PC1 :\" ) \n",
        "print( pcsComponentesdf.PC1.nlargest(3))"
      ],
      "metadata": {
        "colab": {
          "base_uri": "https://localhost:8080/"
        },
        "id": "PWRbkM-kQney",
        "outputId": "0478bba6-b354-47db-dbff-97dac6e68c8d"
      },
      "execution_count": 221,
      "outputs": [
        {
          "output_type": "stream",
          "name": "stdout",
          "text": [
            " Min Variable  PC1 :\n",
            "X23\n",
            " Max Variables  PC1 :\n",
            "X15    0.391850\n",
            "X16    0.388805\n",
            "X14    0.388541\n",
            "Name: PC1, dtype: float64\n"
          ]
        }
      ]
    },
    {
      "cell_type": "code",
      "source": [
        "# resumen del componente PC2\n",
        "\n",
        "print( \" Min Variable  PC2 :\" ) \n",
        "print( pcsComponentesdf.PC2.idxmin())\n",
        "\n",
        "print( \" Max Variables  PC2 :\" ) \n",
        "print( pcsComponentesdf.PC2.nlargest(3))"
      ],
      "metadata": {
        "colab": {
          "base_uri": "https://localhost:8080/"
        },
        "id": "pw5HqnsgRK5C",
        "outputId": "906df30f-1844-4af5-fc3f-55e7e2b988e2"
      },
      "execution_count": 224,
      "outputs": [
        {
          "output_type": "stream",
          "name": "stdout",
          "text": [
            " Min Variable  PC2 :\n",
            "X12\n",
            " Max Variables  PC2 :\n",
            "X19    0.411567\n",
            "X20    0.394763\n",
            "X18    0.386065\n",
            "Name: PC2, dtype: float64\n"
          ]
        }
      ]
    },
    {
      "cell_type": "code",
      "source": [
        "# resumen del componente PC3\n",
        "\n",
        "print( \" Min Variable  PC3 :\" ) \n",
        "print( pcsComponentesdf.PC3.idxmin())\n",
        "\n",
        "print( \" Max Variables  PC :\" ) \n",
        "print( pcsComponentesdf.PC1.nlargest(3))"
      ],
      "metadata": {
        "colab": {
          "base_uri": "https://localhost:8080/"
        },
        "id": "MwxnX_hlROEm",
        "outputId": "d9789ef1-8b03-46f0-935e-cccdd7f53cf4"
      },
      "execution_count": 225,
      "outputs": [
        {
          "output_type": "stream",
          "name": "stdout",
          "text": [
            " Min Variable  PC3 :\n",
            "X22\n",
            " Max Variables  PC :\n",
            "X15    0.391850\n",
            "X16    0.388805\n",
            "X14    0.388541\n",
            "Name: PC1, dtype: float64\n"
          ]
        }
      ]
    },
    {
      "cell_type": "code",
      "source": [
        "# resumen del componente PC4\n",
        "\n",
        "print( \" Min Variable  PC4 :\" ) \n",
        "print( pcsComponentesdf.PC4.idxmin())\n",
        "\n",
        "print( \" Max Variables  PC4 :\" ) \n",
        "print( pcsComponentesdf.PC4.nlargest(3))"
      ],
      "metadata": {
        "colab": {
          "base_uri": "https://localhost:8080/"
        },
        "id": "g5vMngNpRyfd",
        "outputId": "7f7e416b-77f4-4a01-8c98-babbfc3dac63"
      },
      "execution_count": 226,
      "outputs": [
        {
          "output_type": "stream",
          "name": "stdout",
          "text": [
            " Min Variable  PC4 :\n",
            "X21\n",
            " Max Variables  PC4 :\n",
            "X23    0.652948\n",
            "X18    0.235987\n",
            "X19    0.142616\n",
            "Name: PC4, dtype: float64\n"
          ]
        }
      ]
    },
    {
      "cell_type": "code",
      "source": [
        "# resumen del componente PC5\n",
        "\n",
        "print( \" Min Variable  PC5 :\" ) \n",
        "print( pcsComponentesdf.PC5.idxmin())\n",
        "\n",
        "print( \" Max Variables  PC5 :\" ) \n",
        "print( pcsComponentesdf.PC5.nlargest(3))"
      ],
      "metadata": {
        "colab": {
          "base_uri": "https://localhost:8080/"
        },
        "id": "zsOq_0omR1Sv",
        "outputId": "76e2311d-13b7-4b4b-ca08-d70f5436b460"
      },
      "execution_count": 227,
      "outputs": [
        {
          "output_type": "stream",
          "name": "stdout",
          "text": [
            " Min Variable  PC5 :\n",
            "X21\n",
            " Max Variables  PC5 :\n",
            "X22    0.638142\n",
            "X19    0.399039\n",
            "X14    0.102285\n",
            "Name: PC5, dtype: float64\n"
          ]
        }
      ]
    },
    {
      "cell_type": "code",
      "source": [
        "# resumen del componente PC6\n",
        "\n",
        "print( \" Min Variable  PC6 :\" ) \n",
        "print( pcsComponentesdf.PC6.idxmin())\n",
        "\n",
        "print( \" Max Variables  PC6 :\" ) \n",
        "print( pcsComponentesdf.PC6.nlargest(3))"
      ],
      "metadata": {
        "colab": {
          "base_uri": "https://localhost:8080/"
        },
        "id": "n4a4xYDVR3_N",
        "outputId": "5adbfb4d-6640-4b46-8b0c-03acb688af2c"
      },
      "execution_count": 228,
      "outputs": [
        {
          "output_type": "stream",
          "name": "stdout",
          "text": [
            " Min Variable  PC6 :\n",
            "X21\n",
            " Max Variables  PC6 :\n",
            "X20    0.752154\n",
            "X1     0.255897\n",
            "X15    0.122134\n",
            "Name: PC6, dtype: float64\n"
          ]
        }
      ]
    },
    {
      "cell_type": "code",
      "source": [
        "# resumen del componente PC7\n",
        "\n",
        "print( \" Min Variable  PC7 :\" ) \n",
        "print( pcsComponentesdf.PC7.idxmin())\n",
        "\n",
        "print( \" Max Variables  PC7 :\" ) \n",
        "print( pcsComponentesdf.PC7.nlargest(3))"
      ],
      "metadata": {
        "colab": {
          "base_uri": "https://localhost:8080/"
        },
        "id": "shjM2UIpR6X8",
        "outputId": "03690e04-2b6d-4bf1-8afd-d89e0d529105"
      },
      "execution_count": 229,
      "outputs": [
        {
          "output_type": "stream",
          "name": "stdout",
          "text": [
            " Min Variable  PC7 :\n",
            "X1\n",
            " Max Variables  PC7 :\n",
            "X23    0.409796\n",
            "X20    0.285234\n",
            "X22    0.253846\n",
            "Name: PC7, dtype: float64\n"
          ]
        }
      ]
    },
    {
      "cell_type": "markdown",
      "source": [
        "# Paso 3"
      ],
      "metadata": {
        "id": "limVoT7MSBsS"
      }
    },
    {
      "cell_type": "code",
      "source": [
        "# se genera el grafico de cajas para observar los valores atipicos\n",
        "\n",
        "pcsComponentesdf.boxplot() "
      ],
      "metadata": {
        "colab": {
          "base_uri": "https://localhost:8080/",
          "height": 503
        },
        "id": "B2tThz8aR9NM",
        "outputId": "11eb7a28-f567-4d4b-ff4f-6a8345d222f2"
      },
      "execution_count": 231,
      "outputs": [
        {
          "output_type": "execute_result",
          "data": {
            "text/plain": [
              "<matplotlib.axes._subplots.AxesSubplot at 0x7f873e8ef490>"
            ]
          },
          "metadata": {},
          "execution_count": 231
        },
        {
          "output_type": "display_data",
          "data": {
            "text/plain": [
              "<Figure size 864x576 with 1 Axes>"
            ],
            "image/png": "[encoded data removed]"
          },
          "metadata": {}
        }
      ]
    },
    {
      "cell_type": "markdown",
      "source": [
        " # Responde las siguientes preguntas"
      ],
      "metadata": {
        "id": "PoWrUwmVS9E3"
      }
    },
    {
      "cell_type": "markdown",
      "source": [
        "# ¿Cuál es el número de componentes mínimo y por qué?\n",
        "\n",
        "Considerando las variables que tome en cuenta para el trabajo y en base a tomar en cuenta el acumulado de la varianza en un 90% son siete componentes que representan el 91.14%\n",
        "\n",
        "#¿Cuál es la variación de los datos que representan esos componentes?\n",
        "\n",
        "Del primer componente que representa el 45.49% al segundo componente hay una diferencia del 13.17%, después hay un 7.25% de diferencia hacia el tercer componente alcanzando en estos tres primeros el 65.91%, después le sigue las diferencias del 6.8%, 6.72%, 6.01% y 5.7% hasta alcanzar el 91.14% en el séptimo componente.\n",
        "\n",
        "# ¿Cuál es la pérdida de información después de realizar PCA?\n",
        "\n",
        "Se estaría perdiendo el 8.86% de los datos.\n",
        "\n",
        "# De las variables originales, ¿Cuál tiene mayor y cuál tiene menor importancia en los componentes principales?\n",
        "\n",
        "Del componente 1 PC1 el valor maximo es X15 y el minimo es X23\n",
        "Del componente 2 PC2 el valor maximo es X19 y el minimo es X12\n",
        "Del componente 3 PC3 el valor maximo es X15 y el minimo es X22\n",
        "Del componente 4 PC4 el valor maximo es X23 y el minimo es X21\n",
        "Del componente 5 PC5 el valor maximo es X22 y el minimo es X21\n",
        "Del componente 6 PC6 el valor maximo es X20 y el minimo es X21\n",
        "Del componente 7 PC7 el valor maximo es X23 y el minimo es X1\n",
        "\n",
        "# ¿Cuándo se recomienda realizar un PCA y qué beneficios ofrece para Machine Learning?\n",
        "\n",
        "Considero que es muy importante realizar PCA cuando se tiene mucha información como fue este caso, se requiere de mucha practica para encontrar las variables que le den un buen resultado en el modelo que se decida utilizar y creo que es de los primeros pasos a realizar en el proceso de análisis de datos.\n"
      ],
      "metadata": {
        "id": "nDtO1sL-TBOq"
      }
    },
    {
      "cell_type": "code",
      "source": [],
      "metadata": {
        "id": "wJNp_uCoSerX"
      },
      "execution_count": null,
      "outputs": []
    }
  ]
}