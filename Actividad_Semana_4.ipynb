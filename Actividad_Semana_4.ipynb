{
  "nbformat": 4,
  "nbformat_minor": 0,
  "metadata": {
    "colab": {
      "provenance": [],
      "authorship_tag": "ABX9TyOSYsgmnfzujmFxXaelMgpj",
      "include_colab_link": true
    },
    "kernelspec": {
      "name": "python3",
      "display_name": "Python 3"
    },
    "language_info": {
      "name": "python"
    }
  },
  "cells": [
    {
      "cell_type": "markdown",
      "metadata": {
        "id": "view-in-github",
        "colab_type": "text"
      },
      "source": [
        "<a href=\"https://colab.research.google.com/github/PosgradoMNA/actividades-del-projecto-equipo-46/blob/main/Actividad_Semana_4.ipynb\" target=\"_parent\"><img src=\"https://colab.research.google.com/assets/colab-badge.svg\" alt=\"Open In Colab\"/></a>"
      ]
    },
    {
      "cell_type": "markdown",
      "source": [
        "# Actividad 4\n",
        "## Reduccion de datos\n",
        "## Ciencia y analítica de datos\n",
        "### Profesor: Jobish Vallikavungal Devassia\n",
        "### Profesor Tutor: Roberto Antonio Guevara González\n",
        "#### Bernardo Mijangos Flores\n",
        "#### Matricula A01793654"
      ],
      "metadata": {
        "id": "f88mpwTsSR7f"
      }
    },
    {
      "cell_type": "markdown",
      "source": [
        "# Primera parte"
      ],
      "metadata": {
        "id": "3UdTjWb3SsXj"
      }
    },
    {
      "cell_type": "code",
      "execution_count": null,
      "metadata": {
        "id": "QJphhhJ0RquA"
      },
      "outputs": [],
      "source": []
    }
  ]
}