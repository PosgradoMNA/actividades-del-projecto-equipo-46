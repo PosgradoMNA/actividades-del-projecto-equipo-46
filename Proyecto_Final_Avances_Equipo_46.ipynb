{
  "nbformat": 4,
  "nbformat_minor": 0,
  "metadata": {
    "colab": {
      "provenance": [],
      "authorship_tag": "ABX9TyPBlgoe5ZOWQSbHLxwHn+4h",
      "include_colab_link": true
    },
    "kernelspec": {
      "name": "python3",
      "display_name": "Python 3"
    },
    "language_info": {
      "name": "python"
    }
  },
  "cells": [
    {
      "cell_type": "markdown",
      "metadata": {
        "id": "view-in-github",
        "colab_type": "text"
      },
      "source": [
        "<a href=\"https://colab.research.google.com/github/PosgradoMNA/actividades-del-projecto-equipo-46/blob/main/Proyecto_Final_Avances_Equipo_46.ipynb\" target=\"_parent\"><img src=\"https://colab.research.google.com/assets/colab-badge.svg\" alt=\"Open In Colab\"/></a>"
      ]
    },
    {
      "cell_type": "markdown",
      "source": [
        "# Tecnológico de Monterrey\n",
        "## Ciencia de Datos\n",
        "### Proyecto Final - Avances -"
      ],
      "metadata": {
        "id": "eJaAbPMYeQKD"
      }
    },
    {
      "cell_type": "markdown",
      "source": [
        "\n",
        "### Profesor titular: Jobish Vallikavungal Devassia\n",
        "### Profesor asistente: Roberto Antonio Guevara González"
      ],
      "metadata": {
        "id": "rvO6g2eUf92k"
      }
    },
    {
      "cell_type": "markdown",
      "source": [
        "\n",
        "### Equipo 46\n",
        "#### Bernardo Mijangos Flores - A01793654\n",
        "#### Oliver Rubén Acosta Campos"
      ],
      "metadata": {
        "id": "b-bMjyMbgGFU"
      }
    },
    {
      "cell_type": "markdown",
      "source": [
        "## Nombre de los datos:\n",
        "#### Consumo de alcohol de los estudiantes\n",
        "\n",
        "## Organización que lo generó:\n",
        "#### P. Cortez y A. Silva. Uso de la minería de datos para predecir el rendimiento de los estudiantes de secundaria. En A. Brito y J. Teixeira Eds., Proceedings of 5th FUture BUsiness TECHnology Conference (FUBUTEC 2008) pp. 5-12, Oporto, Portugal, abril de 2008, EUROSIS, ISBN 978-9077381-39-7.\n",
        "\n",
        "## Link de descarga de la base de datos:\n",
        "#### https://www.kaggle.com/datasets/uciml/student-alcohol-consumption"
      ],
      "metadata": {
        "id": "A1EcdJGveBJN"
      }
    },
    {
      "cell_type": "markdown",
      "source": [
        "\n",
        "## Descripción de los datos:\n",
        "#### 1.\tschool - escuela del estudiante (binario: 'GP' - Gabriel Pereira o 'MS' - Mousinho da Silveira)\n",
        "#### 2.\tsex - sexo del estudiante (binario: 'F' - femenino o 'M' - masculino)\n",
        "#### 3.\tage - edad del estudiante (numérico: de 15 a 22)\n",
        "#### 4.\taddress - tipo de domicilio del estudiante (binario: 'U' - urbano o 'R' - rural)\n",
        "#### 5.\tfamsize - tamaño de la familia (binario: 'LE3' - menor o igual a 3 o 'GT3' - mayor que 3)\n",
        "#### 6.\tPstatus - estado de cohabitación de los padres (binario: 'T' - viviendo juntos o 'A' - separados)\n",
        "#### 7.\tMedu - educación de la madre (numérico: 0 - ninguno, 1 - educación primaria (4° grado), 2 – 5° a 9° grado, 3 – educación secundaria o 4 – educación superior)\n",
        "#### 8.\tFedu - educación del padre (numérico: 0 - ninguno, 1 - educación primaria (4° grado), 2 – 5° a 9° grado, 3 – educación secundaria o 4 – educación superior)\n",
        "#### 9.\tMjob - trabajo de la madre (nominal: 'maestro', 'servicios' civiles (por ejemplo, administrativo o policía), 'en_casa' u 'otro')\n",
        "#### 10.\tFjob - trabajo del padre (nominal: 'maestro', 'servicios' civiles (por ejemplo, administrativo o policía), 'en_casa' u 'otro')\n",
        "#### 11.\treason: motivo para elegir esta escuela (nominal: cerca de 'casa', 'reputación' de la escuela, preferencia de 'curso' u 'otro')\n",
        "#### 12.\tguardian - tutor del estudiante (nominal: 'madre', 'padre' u 'otro')\n",
        "#### 13.\ttraveltime - tiempo de viaje de la casa a la escuela (numérico: 1 - <15 min., 2 - 15 a 30 min., 3 - 30 min. a 1 hora, o 4 - >1 hora)\n",
        "#### 14.\tstudytime - tiempo de estudio semanal (numérico: 1 - <2 horas, 2 - 2 a 5 horas, 3 - 5 a 10 horas, o 4 - >10 horas)\n",
        "#### 15.\tfailures - número de fallas de clase pasadas (numérico: n si 1<=n<3, si no 4)\n",
        "#### 16.\tschoolup - apoyo educativo adicional (binario: sí o no)\n",
        "#### 17.\tfamsup - apoyo educativo familiar (binario: si o no)\n",
        "#### 18.\tpaid - clases extra pagadas dentro de la materia del curso (matemáticas o portugués) (binario: sí o no)\n",
        "#### 19.\tactivities - actividades extraescolares (binario: sí o no)\n",
        "#### 20.\tnursery - escuela de párvulos asistida (binario: sí o no)\n",
        "#### 21.\thigher - quiere cursar estudios superiores (binario: sí o no)\n",
        "#### 22.\tInternet - Acceso a Internet en casa (binario: sí o no)\n",
        "#### 23.\tromantic - con una relación romántica (binario: sí o no)\n",
        "#### 24.\tfamrel - calidad de las relaciones familiares (numérico: de 1 - muy mala a 5 - excelente)\n",
        "#### 25.\tfreetime - tiempo libre después de la escuela (numérico: de 1 - muy bajo a 5 - muy alto)\n",
        "#### 26.\tgoout - salir con amigos (numérico: de 1 - muy bajo a 5 - muy alto)\n",
        "#### 27.\tDalc - consumo de alcohol en jornada laboral (numérico: de 1 - muy bajo a 5 - muy alto)\n",
        "#### 28.\tWalc - consumo de alcohol en fin de semana (numérico: de 1 - muy bajo a 5 - muy alto)\n",
        "#### 29.\thealth - estado de salud actual (numérico: de 1 - muy malo a 5 - muy bueno)\n",
        "#### 30.\tabsences - número de ausencias escolares (numérico: de 0 a 93)\n",
        "#### Estas calificaciones están relacionadas con la materia del curso, Matemáticas o Portugués:\n",
        "#### 31.\tG1 - nota del primer período (numérico: de 0 a 20)\n",
        "#### 32.\tG2 - calificación del segundo período (numérico: de 0 a 20)\n",
        "#### 33.\tG3 - calificación final (numérica: de 0 a 20, objetivo de salida)"
      ],
      "metadata": {
        "id": "6qvvzH0Hjc8F"
      }
    },
    {
      "cell_type": "markdown",
      "source": [
        "## Pregustas de investigación:\n",
        "#### 1.\t¿Cuál es la edad con mayor consumo de alcohol?\n",
        "#### 2.\t¿Cuáles son los factores que inducen al estudiante al consumo del alcohol?\n",
        "#### 3.\t¿Cuánto afecta el rendimiento del estudiante para obtener buenas notas?\n",
        "#### 4.\t¿Cuál es el estado de salud de los alumnos?\n",
        "#### 5.\t¿Cuál es su entorno familiar de los alumnos que consumen alcohol?\n",
        "#### 6.\t¿Qué sexo que consumen más alcohol?\n",
        "#### 7.\t¿Podemos predecir si el alumno aprobara o no las materias?\n",
        "#### 8.\t¿Podemos crear programas a la medida para atender a los alumnos con problemas de alcoholismo?\n"
      ],
      "metadata": {
        "id": "AnhHZ2aPn3sH"
      }
    },
    {
      "cell_type": "markdown",
      "source": [
        "## Sector al que estaria interesado en la investigación:\n",
        "#### Escuelas del sector público y privado\n",
        "#### Organizaciones y centros de ayuda para las personas con problemas de alcoholismo"
      ],
      "metadata": {
        "id": "8mMLjrQjoGmV"
      }
    },
    {
      "cell_type": "code",
      "execution_count": null,
      "metadata": {
        "id": "24s1rjHod0q5"
      },
      "outputs": [],
      "source": []
    }
  ]
}